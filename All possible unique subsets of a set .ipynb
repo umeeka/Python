{
 "cells": [
  {
   "cell_type": "code",
   "execution_count": 7,
   "id": "a3fd41e4",
   "metadata": {},
   "outputs": [
    {
     "name": "stdout",
     "output_type": "stream",
     "text": [
      "[[], [1], [1, 2], [1, 2, 3], [2], [2, 3], [3]]\n"
     ]
    }
   ],
   "source": [
    "#all uniqie subsets in a set\n",
    "arr=[1,2,2,3]\n",
    "n=len(arr)\n",
    "s=[]\n",
    "for i in range(n):\n",
    "    for j in range(i,n+1):\n",
    "        u=set()\n",
    "        for k in range(i,j):\n",
    "            u.add(arr[k])\n",
    "        if list(u) not in s:\n",
    "            s.append(list(u))\n",
    "print(s)"
   ]
  }
 ],
 "metadata": {
  "kernelspec": {
   "display_name": "Python 3 (ipykernel)",
   "language": "python",
   "name": "python3"
  },
  "language_info": {
   "codemirror_mode": {
    "name": "ipython",
    "version": 3
   },
   "file_extension": ".py",
   "mimetype": "text/x-python",
   "name": "python",
   "nbconvert_exporter": "python",
   "pygments_lexer": "ipython3",
   "version": "3.11.5"
  }
 },
 "nbformat": 4,
 "nbformat_minor": 5
}
